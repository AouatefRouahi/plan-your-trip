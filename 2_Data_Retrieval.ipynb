{
 "cells": [
  {
   "cell_type": "markdown",
   "metadata": {},
   "source": [
    "# Plan your trip with Kayak\n",
    "--------\n",
    "## Data Collection\n",
    "In this second phase, we will :\n",
    " \n",
    "* collect the cities gps coordinates from nominatim API    \n",
    "* collect weather data for each city over 7 days from One Call API "
   ]
  },
  {
   "cell_type": "markdown",
   "metadata": {},
   "source": [
    "### Table of Contents\n",
    "\n",
    "* [1. Download the data from the Data Lake](#section1)\n",
    "* [2. Get weather data for each destination](#section2)\n",
    "    * [2.1. Get GPS coordinates from nominatim API](#section21)\n",
    "       * [2.1.1. Save retrieved data in the data lake](#section211)\n",
    "    * [2.2. Get weather data from One Call API](#section22)\n",
    "       * [2.2.1. Save retrieved data in the data lake](#section221)"
   ]
  },
  {
   "cell_type": "code",
   "execution_count": 12,
   "metadata": {},
   "outputs": [],
   "source": [
    "# getting and parsing data\n",
    "import requests\n",
    "\n",
    "# wrapping data\n",
    "import pandas as pd\n",
    "\n",
    "# time processing\n",
    "from time import sleep\n",
    "from datetime import datetime, timezone\n",
    "\n",
    "# Predefined Functions\n",
    "from modules import Funct as F\n",
    "\n",
    "# global params\n",
    "bucket_name = 'kayak-project'"
   ]
  },
  {
   "cell_type": "markdown",
   "metadata": {},
   "source": [
    "# 1. Download the data from the Data Lake <a class=\"anchor\" id=\"section1\"></a>"
   ]
  },
  {
   "cell_type": "code",
   "execution_count": null,
   "metadata": {},
   "outputs": [],
   "source": [
    "# download the file from the data lake\n",
    "F.download_file_dl(bucket_name, 'cities.txt', 'data/cities.txt')\n",
    "\n",
    "#read the file\n",
    "cities = F.read_txt('data/cities.txt')"
   ]
  },
  {
   "cell_type": "markdown",
   "metadata": {},
   "source": [
    "# 2. Get weather data for each destination <a class=\"anchor\" id=\"section2\"></a>"
   ]
  },
  {
   "cell_type": "markdown",
   "metadata": {},
   "source": [
    "## 2.1. Get GPS coordinates from nominatim API <a class=\"anchor\" id=\"section21\"></a> 🌍"
   ]
  },
  {
   "cell_type": "code",
   "execution_count": 16,
   "metadata": {},
   "outputs": [],
   "source": [
    "base_url_geo = \"https://nominatim.openstreetmap.org/search?\"\n",
    "\n",
    "def nominatim_geocode(address, format='json', limit=1, **kwargs):\n",
    "    '''\n",
    "    This wrapper around nominatim API\n",
    "    Documentation : https://nominatim.org/release-docs/develop/api/Search/\n",
    "    '''\n",
    "    params = {\"q\":address, \"format\": format, \"limit\": limit, **kwargs}\n",
    "    # send request / get_response_data and response_code\n",
    "    try:\n",
    "        response = requests.get(base_url_geo, params=params)\n",
    "        response.raise_for_status()\n",
    "    except requests.exceptions.HTTPError as e:\n",
    "        print (\"Http Error:\",e)\n",
    "    except requests.exceptions.ConnectionError as e:\n",
    "        print (\"Error Connecting:\",e)\n",
    "    except requests.exceptions.Timeout as e:\n",
    "        print (\"Timeout Error:\",e)\n",
    "    except requests.exceptions.RequestException as e:\n",
    "        print (\"Something Else !!\",e)\n",
    "    \n",
    "    sleep(1)\n",
    "    \n",
    "    return response.json()"
   ]
  },
  {
   "cell_type": "markdown",
   "metadata": {},
   "source": [
    "🗒 **_raise_for_status_** is used to handle exceptions if the status code is not 200  \n",
    "🗒 **_time.sleep_** is used to delay code execution for some amount of time. Many requests, fired in rapid succession can, depending on the server in question, quickly take up all of the free connections and effectively become a **DoS Attack**. To allow for breathing space, as well as to make sure we don't negatively impact either the users of the website or the website itself, we'd limit the number of requests sent by delaying each one."
   ]
  },
  {
   "cell_type": "code",
   "execution_count": 17,
   "metadata": {},
   "outputs": [],
   "source": [
    "columns = ['id', 'name', 'latitude', 'longitude']\n",
    "data = []\n",
    "\n",
    "for count, city in enumerate(cities):\n",
    "    response = nominatim_geocode(address = city, country = 'France')\n",
    "    row =[count, city, response[0]['lat'], response[0]['lon']]\n",
    "    data.append(row)\n",
    "    \n",
    "geo_df = pd.DataFrame(data=data, columns=columns)"
   ]
  },
  {
   "cell_type": "code",
   "execution_count": 18,
   "metadata": {},
   "outputs": [
    {
     "data": {
      "text/html": [
       "<div>\n",
       "<style scoped>\n",
       "    .dataframe tbody tr th:only-of-type {\n",
       "        vertical-align: middle;\n",
       "    }\n",
       "\n",
       "    .dataframe tbody tr th {\n",
       "        vertical-align: top;\n",
       "    }\n",
       "\n",
       "    .dataframe thead th {\n",
       "        text-align: right;\n",
       "    }\n",
       "</style>\n",
       "<table border=\"1\" class=\"dataframe\">\n",
       "  <thead>\n",
       "    <tr style=\"text-align: right;\">\n",
       "      <th></th>\n",
       "      <th>id</th>\n",
       "      <th>name</th>\n",
       "      <th>latitude</th>\n",
       "      <th>longitude</th>\n",
       "    </tr>\n",
       "  </thead>\n",
       "  <tbody>\n",
       "    <tr>\n",
       "      <th>0</th>\n",
       "      <td>0</td>\n",
       "      <td>Mont Saint Michel</td>\n",
       "      <td>48.6359541</td>\n",
       "      <td>-1.511459954959514</td>\n",
       "    </tr>\n",
       "    <tr>\n",
       "      <th>1</th>\n",
       "      <td>1</td>\n",
       "      <td>St Malo</td>\n",
       "      <td>48.649518</td>\n",
       "      <td>-2.0260409</td>\n",
       "    </tr>\n",
       "    <tr>\n",
       "      <th>2</th>\n",
       "      <td>2</td>\n",
       "      <td>Bayeux</td>\n",
       "      <td>49.2764624</td>\n",
       "      <td>-0.7024738</td>\n",
       "    </tr>\n",
       "    <tr>\n",
       "      <th>3</th>\n",
       "      <td>3</td>\n",
       "      <td>Le Havre</td>\n",
       "      <td>49.4938975</td>\n",
       "      <td>0.1079732</td>\n",
       "    </tr>\n",
       "    <tr>\n",
       "      <th>4</th>\n",
       "      <td>4</td>\n",
       "      <td>Rouen</td>\n",
       "      <td>49.4404591</td>\n",
       "      <td>1.0939658</td>\n",
       "    </tr>\n",
       "  </tbody>\n",
       "</table>\n",
       "</div>"
      ],
      "text/plain": [
       "   id               name    latitude           longitude\n",
       "0   0  Mont Saint Michel  48.6359541  -1.511459954959514\n",
       "1   1            St Malo   48.649518          -2.0260409\n",
       "2   2             Bayeux  49.2764624          -0.7024738\n",
       "3   3           Le Havre  49.4938975           0.1079732\n",
       "4   4              Rouen  49.4404591           1.0939658"
      ]
     },
     "execution_count": 18,
     "metadata": {},
     "output_type": "execute_result"
    }
   ],
   "source": [
    "geo_df.head()"
   ]
  },
  {
   "cell_type": "code",
   "execution_count": 19,
   "metadata": {},
   "outputs": [
    {
     "data": {
      "text/plain": [
       "id            int64\n",
       "name         object\n",
       "latitude     object\n",
       "longitude    object\n",
       "dtype: object"
      ]
     },
     "execution_count": 19,
     "metadata": {},
     "output_type": "execute_result"
    }
   ],
   "source": [
    "geo_df.dtypes"
   ]
  },
  {
   "cell_type": "code",
   "execution_count": 20,
   "metadata": {},
   "outputs": [],
   "source": [
    "# Convert latitude and longitude dtypes for the mapbox later\n",
    "geo_df[[\"latitude\", \"longitude\"]] = geo_df[[\"latitude\", \"longitude\"]].apply(pd.to_numeric)"
   ]
  },
  {
   "cell_type": "code",
   "execution_count": 21,
   "metadata": {},
   "outputs": [
    {
     "data": {
      "text/plain": [
       "id             int64\n",
       "name          object\n",
       "latitude     float64\n",
       "longitude    float64\n",
       "dtype: object"
      ]
     },
     "execution_count": 21,
     "metadata": {},
     "output_type": "execute_result"
    }
   ],
   "source": [
    "geo_df.dtypes"
   ]
  },
  {
   "cell_type": "markdown",
   "metadata": {},
   "source": [
    "### 2.1.1. Save retrieved data in the data lake <a class=\"anchor\" id=\"section211\"></a> 📚"
   ]
  },
  {
   "cell_type": "code",
   "execution_count": null,
   "metadata": {},
   "outputs": [],
   "source": [
    "geo_df.to_csv('data/cities_coordinates.csv', index=False)\n",
    "F.upload_file_dl('data/cities_coordinates.csv', bucket_name, \"cities_coordinates.csv\")"
   ]
  },
  {
   "cell_type": "markdown",
   "metadata": {},
   "source": [
    "## 2.2. Get weather data from One Call API <a class=\"anchor\" id=\"section22\"></a> ⛅"
   ]
  },
  {
   "cell_type": "code",
   "execution_count": 23,
   "metadata": {},
   "outputs": [],
   "source": [
    "base_url_weather = 'https://api.openweathermap.org/data/2.5//onecall?'\n",
    "\n",
    "def oneCall_weather(lat, lon, exclude, API_key = '4553685c373893d94b854a6c35825c33', units ='metric'):\n",
    "    '''\n",
    "    API: One Call\n",
    "    weather data params: (la,  lon, exclude, api key) \n",
    "    url : https://api.openweathermap.org/data/2.5/onecall?lat={lat}&lon={lon}&exclude={part}&appid={API key}&units={units}\n",
    "    format : json (default)\n",
    "    Documentation : https://openweathermap.org/api/one-call-api\n",
    "    '''\n",
    "    params= {'lat': lat, 'lon': lon, 'exclude': exclude, 'APPID':API_key, 'units': units}\n",
    "    try:\n",
    "        response = requests.get(base_url_weather, params=params)\n",
    "        response.raise_for_status()\n",
    "    except requests.exceptions.HTTPError as e:\n",
    "        print (\"Http Error:\",e)\n",
    "    except requests.exceptions.ConnectionError as e:\n",
    "        print (\"Error Connecting:\",e)\n",
    "    except requests.exceptions.Timeout as e:\n",
    "        print (\"Timeout Error:\",e)\n",
    "    except requests.exceptions.RequestException as e:\n",
    "        print (\"Something Else !!\",e)\n",
    "    \n",
    "    sleep(1)\n",
    "    \n",
    "    return response.json()"
   ]
  },
  {
   "cell_type": "code",
   "execution_count": 24,
   "metadata": {},
   "outputs": [],
   "source": [
    "# convert unix timestamp to datetime\n",
    "def convertDt(unixDt):\n",
    "    utc_time = datetime.fromtimestamp(unixDt, timezone.utc)\n",
    "    local_time = utc_time.astimezone()\n",
    "    \n",
    "    return (local_time.strftime(\"%Y-%m-%d %H:%M:%S (%Z)\"))"
   ]
  },
  {
   "cell_type": "code",
   "execution_count": 25,
   "metadata": {},
   "outputs": [],
   "source": [
    "# get weather data for each city\n",
    "columns = ['day_time', 'temperature', 'precipitation_p', 'humidity', 'weather', 'cid']\n",
    "weather_desc =[]\n",
    "for i in range(len(geo_df)):\n",
    "    \n",
    "    cid = geo_df.loc[i, 'id'] # will be used as foreign key\n",
    "    latitude = geo_df.loc[i, 'latitude']\n",
    "    longitude = geo_df.loc[i, 'longitude']\n",
    "    \n",
    "    response_weather = oneCall_weather(lat = latitude, lon = longitude, exclude = 'current,minutely,hourly,alerts')\n",
    "    \n",
    "    # get weather data for 7 days\n",
    "    for j in range(1, 8, 1): \n",
    "\n",
    "        day_time = convertDt(int(response_weather['daily'][j]['dt']))\n",
    "        temperature = response_weather['daily'][j]['temp']['day']\n",
    "        precipitation_p = response_weather['daily'][j]['pop']\n",
    "        humidity = response_weather['daily'][j]['humidity']\n",
    "        weather = response_weather['daily'][j]['weather'][0]['description']\n",
    "        \n",
    "        weather_desc.append([day_time, temperature, precipitation_p, humidity, weather, cid])\n",
    "    \n",
    "weather_df = pd.DataFrame(weather_desc, columns =columns)"
   ]
  },
  {
   "cell_type": "code",
   "execution_count": 26,
   "metadata": {},
   "outputs": [
    {
     "data": {
      "text/html": [
       "<div>\n",
       "<style scoped>\n",
       "    .dataframe tbody tr th:only-of-type {\n",
       "        vertical-align: middle;\n",
       "    }\n",
       "\n",
       "    .dataframe tbody tr th {\n",
       "        vertical-align: top;\n",
       "    }\n",
       "\n",
       "    .dataframe thead th {\n",
       "        text-align: right;\n",
       "    }\n",
       "</style>\n",
       "<table border=\"1\" class=\"dataframe\">\n",
       "  <thead>\n",
       "    <tr style=\"text-align: right;\">\n",
       "      <th></th>\n",
       "      <th>day_time</th>\n",
       "      <th>temperature</th>\n",
       "      <th>precipitation_p</th>\n",
       "      <th>humidity</th>\n",
       "      <th>weather</th>\n",
       "      <th>cid</th>\n",
       "    </tr>\n",
       "  </thead>\n",
       "  <tbody>\n",
       "    <tr>\n",
       "      <th>0</th>\n",
       "      <td>2022-01-15 12:00:00 (UTC)</td>\n",
       "      <td>6.25</td>\n",
       "      <td>0.00</td>\n",
       "      <td>70</td>\n",
       "      <td>clear sky</td>\n",
       "      <td>0</td>\n",
       "    </tr>\n",
       "    <tr>\n",
       "      <th>1</th>\n",
       "      <td>2022-01-16 12:00:00 (UTC)</td>\n",
       "      <td>7.95</td>\n",
       "      <td>0.10</td>\n",
       "      <td>86</td>\n",
       "      <td>overcast clouds</td>\n",
       "      <td>0</td>\n",
       "    </tr>\n",
       "    <tr>\n",
       "      <th>2</th>\n",
       "      <td>2022-01-17 12:00:00 (UTC)</td>\n",
       "      <td>10.18</td>\n",
       "      <td>0.08</td>\n",
       "      <td>87</td>\n",
       "      <td>broken clouds</td>\n",
       "      <td>0</td>\n",
       "    </tr>\n",
       "    <tr>\n",
       "      <th>3</th>\n",
       "      <td>2022-01-18 12:00:00 (UTC)</td>\n",
       "      <td>8.23</td>\n",
       "      <td>0.00</td>\n",
       "      <td>72</td>\n",
       "      <td>few clouds</td>\n",
       "      <td>0</td>\n",
       "    </tr>\n",
       "    <tr>\n",
       "      <th>4</th>\n",
       "      <td>2022-01-19 12:00:00 (UTC)</td>\n",
       "      <td>7.63</td>\n",
       "      <td>0.00</td>\n",
       "      <td>76</td>\n",
       "      <td>scattered clouds</td>\n",
       "      <td>0</td>\n",
       "    </tr>\n",
       "    <tr>\n",
       "      <th>5</th>\n",
       "      <td>2022-01-20 12:00:00 (UTC)</td>\n",
       "      <td>8.39</td>\n",
       "      <td>0.00</td>\n",
       "      <td>70</td>\n",
       "      <td>broken clouds</td>\n",
       "      <td>0</td>\n",
       "    </tr>\n",
       "    <tr>\n",
       "      <th>6</th>\n",
       "      <td>2022-01-21 12:00:00 (UTC)</td>\n",
       "      <td>5.95</td>\n",
       "      <td>0.00</td>\n",
       "      <td>65</td>\n",
       "      <td>scattered clouds</td>\n",
       "      <td>0</td>\n",
       "    </tr>\n",
       "    <tr>\n",
       "      <th>7</th>\n",
       "      <td>2022-01-15 12:00:00 (UTC)</td>\n",
       "      <td>6.48</td>\n",
       "      <td>0.00</td>\n",
       "      <td>82</td>\n",
       "      <td>clear sky</td>\n",
       "      <td>1</td>\n",
       "    </tr>\n",
       "    <tr>\n",
       "      <th>8</th>\n",
       "      <td>2022-01-16 12:00:00 (UTC)</td>\n",
       "      <td>9.33</td>\n",
       "      <td>0.02</td>\n",
       "      <td>80</td>\n",
       "      <td>overcast clouds</td>\n",
       "      <td>1</td>\n",
       "    </tr>\n",
       "    <tr>\n",
       "      <th>9</th>\n",
       "      <td>2022-01-17 12:00:00 (UTC)</td>\n",
       "      <td>9.80</td>\n",
       "      <td>0.04</td>\n",
       "      <td>86</td>\n",
       "      <td>clear sky</td>\n",
       "      <td>1</td>\n",
       "    </tr>\n",
       "  </tbody>\n",
       "</table>\n",
       "</div>"
      ],
      "text/plain": [
       "                    day_time  temperature  precipitation_p  humidity  \\\n",
       "0  2022-01-15 12:00:00 (UTC)         6.25             0.00        70   \n",
       "1  2022-01-16 12:00:00 (UTC)         7.95             0.10        86   \n",
       "2  2022-01-17 12:00:00 (UTC)        10.18             0.08        87   \n",
       "3  2022-01-18 12:00:00 (UTC)         8.23             0.00        72   \n",
       "4  2022-01-19 12:00:00 (UTC)         7.63             0.00        76   \n",
       "5  2022-01-20 12:00:00 (UTC)         8.39             0.00        70   \n",
       "6  2022-01-21 12:00:00 (UTC)         5.95             0.00        65   \n",
       "7  2022-01-15 12:00:00 (UTC)         6.48             0.00        82   \n",
       "8  2022-01-16 12:00:00 (UTC)         9.33             0.02        80   \n",
       "9  2022-01-17 12:00:00 (UTC)         9.80             0.04        86   \n",
       "\n",
       "            weather  cid  \n",
       "0         clear sky    0  \n",
       "1   overcast clouds    0  \n",
       "2     broken clouds    0  \n",
       "3        few clouds    0  \n",
       "4  scattered clouds    0  \n",
       "5     broken clouds    0  \n",
       "6  scattered clouds    0  \n",
       "7         clear sky    1  \n",
       "8   overcast clouds    1  \n",
       "9         clear sky    1  "
      ]
     },
     "execution_count": 26,
     "metadata": {},
     "output_type": "execute_result"
    }
   ],
   "source": [
    "weather_df.head(10)"
   ]
  },
  {
   "cell_type": "markdown",
   "metadata": {},
   "source": [
    "### 2.2.1. Save retrieved data in the data lake <a class=\"anchor\" id=\"section221\"></a> 📚"
   ]
  },
  {
   "cell_type": "code",
   "execution_count": null,
   "metadata": {},
   "outputs": [],
   "source": [
    "weather_df.to_csv('data/cities_weather.csv', index=False)\n",
    "F.upload_file_dl('data/cities_weather.csv', bucket_name, \"cities_weather.csv\")"
   ]
  }
 ],
 "metadata": {
  "kernelspec": {
   "display_name": "Python 3 (ipykernel)",
   "language": "python",
   "name": "python3"
  },
  "language_info": {
   "codemirror_mode": {
    "name": "ipython",
    "version": 3
   },
   "file_extension": ".py",
   "mimetype": "text/x-python",
   "name": "python",
   "nbconvert_exporter": "python",
   "pygments_lexer": "ipython3",
   "version": "3.9.7"
  },
  "toc-autonumbering": false
 },
 "nbformat": 4,
 "nbformat_minor": 4
}
