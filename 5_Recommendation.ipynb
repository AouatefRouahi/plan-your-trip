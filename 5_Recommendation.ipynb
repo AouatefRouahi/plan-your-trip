{
 "cells": [
  {
   "cell_type": "markdown",
   "metadata": {},
   "source": [
    "<p>In this last phase, we will : </p> \n",
    "<ul> \n",
    "    <li> retrieve the structured data from the database   </li> \n",
    "    <li> Vizualize recommendations </li> \n",
    "</ul>"
   ]
  },
  {
   "cell_type": "markdown",
   "metadata": {},
   "source": [
    "### Table of Contents\n",
    "\n",
    "* [1. Relational Data Storage](#section1)\n",
    "* [2. Cities where the weather will be the nicest](#section2)\n",
    "    * [2.1. Visualize cities with mapBox](#section21)\n",
    "* [3. Discover hotels in the chosen cities](#section3)\n",
    "    * [3.1. Visualize hotels with mapBox](#section31)"
   ]
  },
  {
   "cell_type": "code",
   "execution_count": null,
   "metadata": {},
   "outputs": [],
   "source": [
    "# access to RDS\n",
    "from sqlalchemy import create_engine, text\n",
    "import psycopg2\n",
    "\n",
    "# plotting\n",
    "import plotly.express as px\n",
    "import plotly.io as pio\n",
    "pio.renderers.default = \"iframe_connected\""
   ]
  },
  {
   "cell_type": "markdown",
   "metadata": {},
   "source": [
    "# 1. Relational Data Storage <a class=\"anchor\" id=\"section1\"></a>"
   ]
  },
  {
   "cell_type": "code",
   "execution_count": 8,
   "metadata": {},
   "outputs": [],
   "source": [
    "dbuser = ''\n",
    "dbpass = ''\n",
    "dbhost = ''\n",
    "dbname = ''\n",
    "\n",
    "engine = create_engine(f\"postgresql+psycopg2://{dbuser}:{dbpass}@{dbhost}/{dbname}\", echo=True)"
   ]
  },
  {
   "cell_type": "markdown",
   "metadata": {},
   "source": [
    "# 2. Cities where the weather will be the nicest <a class=\"anchor\" id=\"section2\"></a> ☀️ 😎"
   ]
  },
  {
   "cell_type": "markdown",
   "metadata": {},
   "source": [
    "🗒 Comparing two cities with reference to the three criteria (temperature, humidity and percipitation_p) depends on one's perception of what could be a good weather. It depends on one's life style and especially its region climate.   \n",
    "🗒  We could have used the Universal Thermal Climate Index (UTCI), however, the One Call API doesn't supply such data.   \n",
    "🗒  According to this article ([Weather perception and its impact on out-of-home leisure activity participation decisions](https://www.tandfonline.com/doi/full/10.1080/21680566.2020.1733703)), temperature, percipitation and UTCI are the most important factors that may influence someone's decision of going out. That's why, we will sort our data giving three available criteria in this order :  temperature, percipitation, humidity "
   ]
  },
  {
   "cell_type": "code",
   "execution_count": 74,
   "metadata": {},
   "outputs": [
    {
     "name": "stdin",
     "output_type": "stream",
     "text": [
      "How many cities would you like to get in your recommendation:  6\n"
     ]
    }
   ],
   "source": [
    "n_best = int(input('How many cities would you like to get in your recommendation: '))"
   ]
  },
  {
   "cell_type": "code",
   "execution_count": 78,
   "metadata": {},
   "outputs": [
    {
     "name": "stdout",
     "output_type": "stream",
     "text": [
      "2022-01-16 22:17:17,232 INFO sqlalchemy.engine.base.Engine SELECT city.id, city.name, city.latitude, city.longitude, AVG(weather.temperature), AVG(weather.precipitation_p), AVG(weather.humidity)         FROM weather         join city         on city.id=weather.cid         GROUP BY  weather.cid, city.id          ORDER BY AVG(weather.temperature) desc, AVG(weather.precipitation_p) desc, AVG(weather.humidity) desc         LIMIT 6\n",
      "2022-01-16 22:17:17,234 INFO sqlalchemy.engine.base.Engine {}\n"
     ]
    },
    {
     "data": {
      "text/html": [
       "<div>\n",
       "<style scoped>\n",
       "    .dataframe tbody tr th:only-of-type {\n",
       "        vertical-align: middle;\n",
       "    }\n",
       "\n",
       "    .dataframe tbody tr th {\n",
       "        vertical-align: top;\n",
       "    }\n",
       "\n",
       "    .dataframe thead th {\n",
       "        text-align: right;\n",
       "    }\n",
       "</style>\n",
       "<table border=\"1\" class=\"dataframe\">\n",
       "  <thead>\n",
       "    <tr style=\"text-align: right;\">\n",
       "      <th></th>\n",
       "      <th>id</th>\n",
       "      <th>city</th>\n",
       "      <th>latitude</th>\n",
       "      <th>longitude</th>\n",
       "      <th>avg_temperature</th>\n",
       "      <th>avg_precipitation</th>\n",
       "      <th>avg_humidity</th>\n",
       "    </tr>\n",
       "  </thead>\n",
       "  <tbody>\n",
       "    <tr>\n",
       "      <th>0</th>\n",
       "      <td>18</td>\n",
       "      <td>Bormes les Mimosas</td>\n",
       "      <td>43.157217</td>\n",
       "      <td>6.329254</td>\n",
       "      <td>11.664286</td>\n",
       "      <td>0.024286</td>\n",
       "      <td>51.1428571428571429</td>\n",
       "    </tr>\n",
       "    <tr>\n",
       "      <th>1</th>\n",
       "      <td>27</td>\n",
       "      <td>Collioure</td>\n",
       "      <td>42.525050</td>\n",
       "      <td>3.083155</td>\n",
       "      <td>11.210000</td>\n",
       "      <td>0.000000</td>\n",
       "      <td>49.2857142857142857</td>\n",
       "    </tr>\n",
       "    <tr>\n",
       "      <th>2</th>\n",
       "      <td>19</td>\n",
       "      <td>Cassis</td>\n",
       "      <td>43.214036</td>\n",
       "      <td>5.539632</td>\n",
       "      <td>11.094286</td>\n",
       "      <td>0.007143</td>\n",
       "      <td>49.8571428571428571</td>\n",
       "    </tr>\n",
       "    <tr>\n",
       "      <th>3</th>\n",
       "      <td>20</td>\n",
       "      <td>Marseille</td>\n",
       "      <td>43.296174</td>\n",
       "      <td>5.369953</td>\n",
       "      <td>10.222857</td>\n",
       "      <td>0.002857</td>\n",
       "      <td>51.5714285714285714</td>\n",
       "    </tr>\n",
       "    <tr>\n",
       "      <th>4</th>\n",
       "      <td>25</td>\n",
       "      <td>Aigues Mortes</td>\n",
       "      <td>43.565823</td>\n",
       "      <td>4.191284</td>\n",
       "      <td>9.621429</td>\n",
       "      <td>0.000000</td>\n",
       "      <td>49.4285714285714286</td>\n",
       "    </tr>\n",
       "    <tr>\n",
       "      <th>5</th>\n",
       "      <td>26</td>\n",
       "      <td>Saintes Maries de la mer</td>\n",
       "      <td>43.452277</td>\n",
       "      <td>4.428717</td>\n",
       "      <td>9.427143</td>\n",
       "      <td>0.000000</td>\n",
       "      <td>53.8571428571428571</td>\n",
       "    </tr>\n",
       "  </tbody>\n",
       "</table>\n",
       "</div>"
      ],
      "text/plain": [
       "   id                      city   latitude  longitude  avg_temperature  \\\n",
       "0  18        Bormes les Mimosas  43.157217   6.329254        11.664286   \n",
       "1  27                 Collioure  42.525050   3.083155        11.210000   \n",
       "2  19                    Cassis  43.214036   5.539632        11.094286   \n",
       "3  20                 Marseille  43.296174   5.369953        10.222857   \n",
       "4  25             Aigues Mortes  43.565823   4.191284         9.621429   \n",
       "5  26  Saintes Maries de la mer  43.452277   4.428717         9.427143   \n",
       "\n",
       "   avg_precipitation         avg_humidity  \n",
       "0           0.024286  51.1428571428571429  \n",
       "1           0.000000  49.2857142857142857  \n",
       "2           0.007143  49.8571428571428571  \n",
       "3           0.002857  51.5714285714285714  \n",
       "4           0.000000  49.4285714285714286  \n",
       "5           0.000000  53.8571428571428571  "
      ]
     },
     "execution_count": 78,
     "metadata": {},
     "output_type": "execute_result"
    }
   ],
   "source": [
    "# get the data from the data lake\n",
    "conn = engine.connect()\n",
    "\n",
    "query = f'SELECT city.id, city.name, city.latitude, city.longitude, AVG(weather.temperature), AVG(weather.precipitation_p), AVG(weather.humidity)\\\n",
    "         FROM weather\\\n",
    "         join city\\\n",
    "         on city.id=weather.cid\\\n",
    "         GROUP BY  weather.cid, city.id \\\n",
    "         ORDER BY AVG(weather.temperature) desc, AVG(weather.precipitation_p) desc, AVG(weather.humidity) desc\\\n",
    "         LIMIT {n_best}'\n",
    "\n",
    "stmt = text(query)\n",
    "result = conn.execute(stmt)\n",
    "result.fetchmany\n",
    "best_cities_df = pd.DataFrame(result.fetchall(), columns=['id', 'city', 'latitude', 'longitude','avg_temperature','avg_precipitation','avg_humidity'])\n",
    "best_cities_df"
   ]
  },
  {
   "cell_type": "markdown",
   "metadata": {},
   "source": [
    "## 2.1. Visualize results with mapBox 📊 <a class=\"anchor\" id=\"section21\"></a>"
   ]
  },
  {
   "cell_type": "code",
   "execution_count": 6,
   "metadata": {},
   "outputs": [
    {
     "data": {
      "text/html": [
       "<iframe\n",
       "    scrolling=\"no\"\n",
       "    width=\"920px\"\n",
       "    height=\"520\"\n",
       "    src=\"iframe_figures/figure_6.html\"\n",
       "    frameborder=\"0\"\n",
       "    allowfullscreen\n",
       "></iframe>\n"
      ]
     },
     "metadata": {},
     "output_type": "display_data"
    }
   ],
   "source": [
    "fig = px.scatter_mapbox(best_cities_df, lat=\"latitude\", lon=\"longitude\", hover_name='city', color=\"avg_temperature\", size =1 - best_cities_df['avg_precipitation'],\n",
    "                        hover_data=['avg_temperature','avg_precipitation'], zoom=6, height=500, width=900, color_continuous_scale='bluered')\n",
    "\n",
    "fig.update_layout(mapbox_style=\"open-street-map\")\n",
    "\n",
    "fig.update_layout(margin={\"r\":0,\"t\":0,\"l\":0,\"b\":0})\n",
    "\n",
    "fig.show()"
   ]
  },
  {
   "cell_type": "markdown",
   "metadata": {},
   "source": [
    "![image](data/best_city.png) "
   ]
  },
  {
   "cell_type": "code",
   "execution_count": 1,
   "metadata": {},
   "outputs": [
    {
     "data": {
      "text/plain": [
       "True"
      ]
     },
     "execution_count": 1,
     "metadata": {},
     "output_type": "execute_result"
    }
   ],
   "source": [
    "import webbrowser\n",
    "import os\n",
    "\n",
    "filename = 'file:///'+os.getcwd()+'/' + 'maps/best_cities.html'\n",
    "webbrowser.open_new_tab(filename)"
   ]
  },
  {
   "cell_type": "markdown",
   "metadata": {},
   "source": [
    "# 3. Discover hotels 🏩 in the chosen cities 🌇 <a class=\"anchor\" id=\"section3\"></a>"
   ]
  },
  {
   "cell_type": "code",
   "execution_count": 97,
   "metadata": {},
   "outputs": [],
   "source": [
    "# this is the very simple way to interact with user without any cheking for erroneous input but\n",
    "# we could use Tkinter package to make more ergonomic GUIs \n",
    "def interface():\n",
    "    n_cities = int(input('Enter the number of cities to discover:\\n'))\n",
    "    list_cities = tuple(input(\"Enter the city name and press enter: \\n\") for _ in range(n_cities))\n",
    "    criterion = input(\"Choose one criterion to filter hotels: \\n s for star rating \\n g for guests reviews \\n p for price per night \\n \")\n",
    "    \n",
    "    return list_cities, criterion"
   ]
  },
  {
   "cell_type": "code",
   "execution_count": 98,
   "metadata": {},
   "outputs": [
    {
     "name": "stdin",
     "output_type": "stream",
     "text": [
      "Enter the number of cities to discover:\n",
      " 2\n",
      "Enter the city name and press enter: \n",
      " Bormes les mimosas\n",
      "Enter the city name and press enter: \n",
      " Collioure\n",
      "Choose one criterion to filter hotels: \n",
      " s for star rating \n",
      " g for guests reviews \n",
      " p for price per night \n",
      "  s\n"
     ]
    }
   ],
   "source": [
    "list_cities, criterion = interface()"
   ]
  },
  {
   "cell_type": "code",
   "execution_count": 109,
   "metadata": {},
   "outputs": [],
   "source": [
    "# we suppose that there is no erroneous input\n",
    "list_cities = tuple(s.lower() for s in list_cities)\n",
    "\n",
    "filter_col = 'star'\n",
    "if criterion == 'g':\n",
    "    filter_col = 'rating'\n",
    "elif criterion == 'p':\n",
    "    filter_col = 'price'"
   ]
  },
  {
   "cell_type": "code",
   "execution_count": 110,
   "metadata": {},
   "outputs": [
    {
     "name": "stdout",
     "output_type": "stream",
     "text": [
      "2022-01-16 23:36:00,310 INFO sqlalchemy.engine.base.Engine select hotels.name, hotels.star, hotels.rating, hotels.rating_title, hotels.price, hotels.lat, hotels.lon, city.name          from hotels          join city          on hotels.cid = city.id          where lower(city.name) in ('bormes les mimosas', 'collioure')          and hotels.star is not null          order by hotels.star desc\n",
      "2022-01-16 23:36:00,312 INFO sqlalchemy.engine.base.Engine {}\n"
     ]
    },
    {
     "data": {
      "text/html": [
       "<div>\n",
       "<style scoped>\n",
       "    .dataframe tbody tr th:only-of-type {\n",
       "        vertical-align: middle;\n",
       "    }\n",
       "\n",
       "    .dataframe tbody tr th {\n",
       "        vertical-align: top;\n",
       "    }\n",
       "\n",
       "    .dataframe thead th {\n",
       "        text-align: right;\n",
       "    }\n",
       "</style>\n",
       "<table border=\"1\" class=\"dataframe\">\n",
       "  <thead>\n",
       "    <tr style=\"text-align: right;\">\n",
       "      <th></th>\n",
       "      <th>hotel_name</th>\n",
       "      <th>star</th>\n",
       "      <th>rating</th>\n",
       "      <th>rating_title</th>\n",
       "      <th>price</th>\n",
       "      <th>latitude</th>\n",
       "      <th>longitude</th>\n",
       "      <th>city_name</th>\n",
       "    </tr>\n",
       "  </thead>\n",
       "  <tbody>\n",
       "    <tr>\n",
       "      <th>0</th>\n",
       "      <td>Hôtel La Casa Pairal</td>\n",
       "      <td>4.0</td>\n",
       "      <td>8.7</td>\n",
       "      <td>Superbe</td>\n",
       "      <td>145.50</td>\n",
       "      <td>42.526167</td>\n",
       "      <td>3.082356</td>\n",
       "      <td>Collioure</td>\n",
       "    </tr>\n",
       "    <tr>\n",
       "      <th>1</th>\n",
       "      <td>Eden Rose Grand Hotel BW Premier Collection</td>\n",
       "      <td>4.0</td>\n",
       "      <td>8.7</td>\n",
       "      <td>Superbe</td>\n",
       "      <td>203.40</td>\n",
       "      <td>43.152872</td>\n",
       "      <td>6.342654</td>\n",
       "      <td>Bormes les Mimosas</td>\n",
       "    </tr>\n",
       "    <tr>\n",
       "      <th>2</th>\n",
       "      <td>Hotel Les Jardins de Bormes</td>\n",
       "      <td>3.0</td>\n",
       "      <td>8.6</td>\n",
       "      <td>Superbe</td>\n",
       "      <td>93.30</td>\n",
       "      <td>43.148934</td>\n",
       "      <td>6.303266</td>\n",
       "      <td>Bormes les Mimosas</td>\n",
       "    </tr>\n",
       "    <tr>\n",
       "      <th>3</th>\n",
       "      <td>Hotel La Voile</td>\n",
       "      <td>3.0</td>\n",
       "      <td>7.9</td>\n",
       "      <td>Bien</td>\n",
       "      <td>NaN</td>\n",
       "      <td>43.125490</td>\n",
       "      <td>6.357300</td>\n",
       "      <td>Bormes les Mimosas</td>\n",
       "    </tr>\n",
       "    <tr>\n",
       "      <th>4</th>\n",
       "      <td>Hotel Méditerranée</td>\n",
       "      <td>3.0</td>\n",
       "      <td>7.9</td>\n",
       "      <td>Bien</td>\n",
       "      <td>NaN</td>\n",
       "      <td>42.527083</td>\n",
       "      <td>3.080263</td>\n",
       "      <td>Collioure</td>\n",
       "    </tr>\n",
       "    <tr>\n",
       "      <th>5</th>\n",
       "      <td>Hostellerie du Cigalou - Les Collectionneurs</td>\n",
       "      <td>3.0</td>\n",
       "      <td>8.0</td>\n",
       "      <td>Très bien</td>\n",
       "      <td>83.30</td>\n",
       "      <td>43.151958</td>\n",
       "      <td>6.343284</td>\n",
       "      <td>Bormes les Mimosas</td>\n",
       "    </tr>\n",
       "    <tr>\n",
       "      <th>6</th>\n",
       "      <td>Hôtel Princes de Catalogne</td>\n",
       "      <td>3.0</td>\n",
       "      <td>8.1</td>\n",
       "      <td>Très bien</td>\n",
       "      <td>NaN</td>\n",
       "      <td>42.525914</td>\n",
       "      <td>3.082682</td>\n",
       "      <td>Collioure</td>\n",
       "    </tr>\n",
       "    <tr>\n",
       "      <th>7</th>\n",
       "      <td>La Frégate</td>\n",
       "      <td>3.0</td>\n",
       "      <td>8.1</td>\n",
       "      <td>Très bien</td>\n",
       "      <td>85.30</td>\n",
       "      <td>42.526386</td>\n",
       "      <td>3.083257</td>\n",
       "      <td>Collioure</td>\n",
       "    </tr>\n",
       "    <tr>\n",
       "      <th>8</th>\n",
       "      <td>Le Madeloc Hôtel &amp; Spa</td>\n",
       "      <td>3.0</td>\n",
       "      <td>8.8</td>\n",
       "      <td>Superbe</td>\n",
       "      <td>106.48</td>\n",
       "      <td>42.528765</td>\n",
       "      <td>3.078654</td>\n",
       "      <td>Collioure</td>\n",
       "    </tr>\n",
       "    <tr>\n",
       "      <th>9</th>\n",
       "      <td>Le Mas des Citronniers</td>\n",
       "      <td>3.0</td>\n",
       "      <td>8.0</td>\n",
       "      <td>Très bien</td>\n",
       "      <td>NaN</td>\n",
       "      <td>42.525382</td>\n",
       "      <td>3.082564</td>\n",
       "      <td>Collioure</td>\n",
       "    </tr>\n",
       "    <tr>\n",
       "      <th>10</th>\n",
       "      <td>Hôtel des Templiers</td>\n",
       "      <td>2.0</td>\n",
       "      <td>8.1</td>\n",
       "      <td>Très bien</td>\n",
       "      <td>89.98</td>\n",
       "      <td>42.526665</td>\n",
       "      <td>3.083941</td>\n",
       "      <td>Collioure</td>\n",
       "    </tr>\n",
       "    <tr>\n",
       "      <th>11</th>\n",
       "      <td>Hôtel Les Mimosas</td>\n",
       "      <td>2.0</td>\n",
       "      <td>7.6</td>\n",
       "      <td>Bien</td>\n",
       "      <td>NaN</td>\n",
       "      <td>43.149188</td>\n",
       "      <td>6.300261</td>\n",
       "      <td>Bormes les Mimosas</td>\n",
       "    </tr>\n",
       "    <tr>\n",
       "      <th>12</th>\n",
       "      <td>Hôtel Paradis</td>\n",
       "      <td>2.0</td>\n",
       "      <td>7.9</td>\n",
       "      <td>Bien</td>\n",
       "      <td>57.00</td>\n",
       "      <td>43.144686</td>\n",
       "      <td>6.335125</td>\n",
       "      <td>Bormes les Mimosas</td>\n",
       "    </tr>\n",
       "    <tr>\n",
       "      <th>13</th>\n",
       "      <td>Hôtel Triton</td>\n",
       "      <td>2.0</td>\n",
       "      <td>7.4</td>\n",
       "      <td>Bien</td>\n",
       "      <td>64.00</td>\n",
       "      <td>42.523716</td>\n",
       "      <td>3.087135</td>\n",
       "      <td>Collioure</td>\n",
       "    </tr>\n",
       "    <tr>\n",
       "      <th>14</th>\n",
       "      <td>Hotel Restaurant Bellevue</td>\n",
       "      <td>2.0</td>\n",
       "      <td>7.7</td>\n",
       "      <td>Bien</td>\n",
       "      <td>67.00</td>\n",
       "      <td>43.151878</td>\n",
       "      <td>6.343136</td>\n",
       "      <td>Bormes les Mimosas</td>\n",
       "    </tr>\n",
       "  </tbody>\n",
       "</table>\n",
       "</div>"
      ],
      "text/plain": [
       "                                      hotel_name  star  rating rating_title  \\\n",
       "0                           Hôtel La Casa Pairal   4.0     8.7      Superbe   \n",
       "1    Eden Rose Grand Hotel BW Premier Collection   4.0     8.7      Superbe   \n",
       "2                    Hotel Les Jardins de Bormes   3.0     8.6      Superbe   \n",
       "3                                 Hotel La Voile   3.0     7.9         Bien   \n",
       "4                             Hotel Méditerranée   3.0     7.9         Bien   \n",
       "5   Hostellerie du Cigalou - Les Collectionneurs   3.0     8.0    Très bien   \n",
       "6                     Hôtel Princes de Catalogne   3.0     8.1    Très bien   \n",
       "7                                     La Frégate   3.0     8.1    Très bien   \n",
       "8                         Le Madeloc Hôtel & Spa   3.0     8.8      Superbe   \n",
       "9                         Le Mas des Citronniers   3.0     8.0    Très bien   \n",
       "10                           Hôtel des Templiers   2.0     8.1    Très bien   \n",
       "11                             Hôtel Les Mimosas   2.0     7.6         Bien   \n",
       "12                                 Hôtel Paradis   2.0     7.9         Bien   \n",
       "13                                  Hôtel Triton   2.0     7.4         Bien   \n",
       "14                     Hotel Restaurant Bellevue   2.0     7.7         Bien   \n",
       "\n",
       "     price   latitude  longitude           city_name  \n",
       "0   145.50  42.526167   3.082356           Collioure  \n",
       "1   203.40  43.152872   6.342654  Bormes les Mimosas  \n",
       "2    93.30  43.148934   6.303266  Bormes les Mimosas  \n",
       "3      NaN  43.125490   6.357300  Bormes les Mimosas  \n",
       "4      NaN  42.527083   3.080263           Collioure  \n",
       "5    83.30  43.151958   6.343284  Bormes les Mimosas  \n",
       "6      NaN  42.525914   3.082682           Collioure  \n",
       "7    85.30  42.526386   3.083257           Collioure  \n",
       "8   106.48  42.528765   3.078654           Collioure  \n",
       "9      NaN  42.525382   3.082564           Collioure  \n",
       "10   89.98  42.526665   3.083941           Collioure  \n",
       "11     NaN  43.149188   6.300261  Bormes les Mimosas  \n",
       "12   57.00  43.144686   6.335125  Bormes les Mimosas  \n",
       "13   64.00  42.523716   3.087135           Collioure  \n",
       "14   67.00  43.151878   6.343136  Bormes les Mimosas  "
      ]
     },
     "execution_count": 110,
     "metadata": {},
     "output_type": "execute_result"
    }
   ],
   "source": [
    "# get the data from the data lake\n",
    "conn = engine.connect()\n",
    "\n",
    "query = f'select hotels.name, hotels.star, hotels.rating, hotels.rating_title, hotels.price, hotels.lat, hotels.lon, city.name\\\n",
    "          from hotels\\\n",
    "          join city\\\n",
    "          on hotels.cid = city.id\\\n",
    "          where lower(city.name) in {list_cities}\\\n",
    "          and hotels.{filter_col} is not null\\\n",
    "          order by hotels.{filter_col} desc'\n",
    "\n",
    "stmt = text(query)\n",
    "result = conn.execute(stmt)\n",
    "result.fetchmany\n",
    "best_hotels_df = pd.DataFrame(result.fetchall(), columns=['hotel_name', 'star', 'rating', 'rating_title','price','latitude','longitude', 'city_name'])\n",
    "best_hotels_df"
   ]
  },
  {
   "cell_type": "markdown",
   "metadata": {},
   "source": [
    "## 3.1. Visualize results with mapBox 📊 <a class=\"anchor\" id=\"section31\"></a>"
   ]
  },
  {
   "cell_type": "code",
   "execution_count": 34,
   "metadata": {},
   "outputs": [
    {
     "data": {
      "text/html": [
       "<iframe\n",
       "    scrolling=\"no\"\n",
       "    width=\"920px\"\n",
       "    height=\"520\"\n",
       "    src=\"iframe_figures/figure_34.html\"\n",
       "    frameborder=\"0\"\n",
       "    allowfullscreen\n",
       "></iframe>\n"
      ]
     },
     "metadata": {},
     "output_type": "display_data"
    }
   ],
   "source": [
    "fig = px.scatter_mapbox(best_hotels_df, lat=\"latitude\", lon=\"longitude\", hover_name='hotel_name', color=filter_col, size = filter_col,\n",
    "                        hover_data=['city_name', 'star', 'rating', 'rating_title','price'], height=500, width=900, \n",
    "                        color_continuous_scale='oranges', zoom=7)\n",
    "\n",
    "fig.update_layout(mapbox_style=\"open-street-map\")\n",
    "\n",
    "fig.update_layout(margin={\"r\":0,\"t\":0,\"l\":0,\"b\":0})\n",
    "\n",
    "fig.show()"
   ]
  },
  {
   "cell_type": "markdown",
   "metadata": {},
   "source": [
    "![image](data/best_hotel.png) "
   ]
  },
  {
   "cell_type": "code",
   "execution_count": 5,
   "metadata": {},
   "outputs": [
    {
     "data": {
      "text/plain": [
       "True"
      ]
     },
     "execution_count": 5,
     "metadata": {},
     "output_type": "execute_result"
    }
   ],
   "source": [
    "import webbrowser\n",
    "import os\n",
    "\n",
    "filename = 'file:///'+os.getcwd()+'/' + 'maps/best_hotels.html'\n",
    "webbrowser.open_new_tab(filename)"
   ]
  }
 ],
 "metadata": {
  "kernelspec": {
   "display_name": "Python 3 (ipykernel)",
   "language": "python",
   "name": "python3"
  },
  "language_info": {
   "codemirror_mode": {
    "name": "ipython",
    "version": 3
   },
   "file_extension": ".py",
   "mimetype": "text/x-python",
   "name": "python",
   "nbconvert_exporter": "python",
   "pygments_lexer": "ipython3",
   "version": "3.9.7"
  }
 },
 "nbformat": 4,
 "nbformat_minor": 4
}
