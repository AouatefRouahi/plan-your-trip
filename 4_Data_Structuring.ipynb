{
 "cells": [
  {
   "cell_type": "markdown",
   "metadata": {},
   "source": [
    "<p>In this third phase, we will : </p> \n",
    "<ul> \n",
    "    <li> retrieve the data from the data lake   </li> \n",
    "    <li> clean and structure the data and save it in a relational database </li> \n",
    "</ul>"
   ]
  },
  {
   "cell_type": "markdown",
   "metadata": {},
   "source": [
    "### Table of Contents\n",
    "\n",
    "* [1. Download the data from the Data Lake](#section1)\n",
    "* [2. Relational Data Storage](#section2)\n",
    "* [3. Structure and save cities coordinates data in the DB](#section3)\n",
    "* [4. Structure and save weather data in the DB](#section4)\n",
    "* [5. Structure and save hotels data in the DB](#section5)\n",
    "* [6. DB schema](#section6)"
   ]
  },
  {
   "cell_type": "code",
   "execution_count": 6,
   "metadata": {},
   "outputs": [],
   "source": [
    "# wrapping data\n",
    "import pandas as pd\n",
    "import numpy as np\n",
    "\n",
    "# predefined functions\n",
    "from modules import Funct as F\n",
    "\n",
    "# global params\n",
    "bucket_name = 'kayak-project'"
   ]
  },
  {
   "cell_type": "markdown",
   "metadata": {},
   "source": [
    "# 1. Download the data from the Data Lake <a class=\"anchor\" id=\"section1\"></a>"
   ]
  },
  {
   "cell_type": "code",
   "execution_count": 7,
   "metadata": {},
   "outputs": [
    {
     "name": "stdout",
     "output_type": "stream",
     "text": [
      "The object does not exist !!\n",
      "The object does not exist !!\n"
     ]
    }
   ],
   "source": [
    "F.download_file_dl(bucket_name, 'cities_coordinates.csv', 'data/cities_coordinates.csv')\n",
    "F.download_file_dl(bucket_name, 'cities_weather.csv', 'data/cities_weather.csv')\n",
    "F.download_file_dl(bucket_name, 'hotels.csv', 'data/hotels.csv')"
   ]
  },
  {
   "cell_type": "code",
   "execution_count": 7,
   "metadata": {},
   "outputs": [],
   "source": [
    "geo_df = pd.read_csv('data/cities_coordinates.csv')\n",
    "weather_df = pd.read_csv('data/cities_weather.csv')\n",
    "hotels_df = pd.read_csv('data/hotels.csv')"
   ]
  },
  {
   "cell_type": "markdown",
   "metadata": {},
   "source": [
    "# 2. Relational Data Storage <a class=\"anchor\" id=\"section2\"></a>"
   ]
  },
  {
   "cell_type": "code",
   "execution_count": 8,
   "metadata": {},
   "outputs": [],
   "source": [
    "# Amazon Relational Database Service (Amazon RDS)\n",
    "# create engine using the SQL toolkit and Object Relational Mapper sqlalchemy\n",
    "# to get access to the database where we will save our structured data\n",
    "from sqlalchemy import create_engine, text\n",
    "#PostgreSQL database adapter\n",
    "import psycopg2\n",
    "\n",
    "dbuser = ''\n",
    "dbpass = ''\n",
    "dbhost = ''\n",
    "dbname = ''\n",
    "\n",
    "engine = create_engine(f\"postgresql+psycopg2://{dbuser}:{dbpass}@{dbhost}/{dbname}\", echo=True)"
   ]
  },
  {
   "cell_type": "markdown",
   "metadata": {},
   "source": [
    "# 3. Structure and save cities coordinates data in the DB <a class=\"anchor\" id=\"section3\"></a>"
   ]
  },
  {
   "cell_type": "code",
   "execution_count": 9,
   "metadata": {},
   "outputs": [
    {
     "name": "stdout",
     "output_type": "stream",
     "text": [
      "2022-01-16 20:42:58,995 INFO sqlalchemy.engine.base.Engine select version()\n",
      "2022-01-16 20:42:58,996 INFO sqlalchemy.engine.base.Engine {}\n",
      "2022-01-16 20:42:59,161 INFO sqlalchemy.engine.base.Engine select current_schema()\n",
      "2022-01-16 20:42:59,162 INFO sqlalchemy.engine.base.Engine {}\n",
      "2022-01-16 20:42:59,327 INFO sqlalchemy.engine.base.Engine SELECT CAST('test plain returns' AS VARCHAR(60)) AS anon_1\n",
      "2022-01-16 20:42:59,328 INFO sqlalchemy.engine.base.Engine {}\n",
      "2022-01-16 20:42:59,411 INFO sqlalchemy.engine.base.Engine SELECT CAST('test unicode returns' AS VARCHAR(60)) AS anon_1\n",
      "2022-01-16 20:42:59,412 INFO sqlalchemy.engine.base.Engine {}\n",
      "2022-01-16 20:42:59,494 INFO sqlalchemy.engine.base.Engine show standard_conforming_strings\n",
      "2022-01-16 20:42:59,495 INFO sqlalchemy.engine.base.Engine {}\n",
      "2022-01-16 20:42:59,660 INFO sqlalchemy.engine.base.Engine select relname from pg_class c join pg_namespace n on n.oid=c.relnamespace where pg_catalog.pg_table_is_visible(c.oid) and relname=%(name)s\n",
      "2022-01-16 20:42:59,661 INFO sqlalchemy.engine.base.Engine {'name': 'city'}\n",
      "2022-01-16 20:42:59,908 INFO sqlalchemy.engine.base.Engine \n",
      "CREATE TABLE city (\n",
      "\tid BIGINT, \n",
      "\tname TEXT, \n",
      "\tlatitude FLOAT(53), \n",
      "\tlongitude FLOAT(53)\n",
      ")\n",
      "\n",
      "\n",
      "2022-01-16 20:42:59,909 INFO sqlalchemy.engine.base.Engine {}\n",
      "2022-01-16 20:43:00,188 INFO sqlalchemy.engine.base.Engine COMMIT\n",
      "2022-01-16 20:43:00,273 INFO sqlalchemy.engine.base.Engine BEGIN (implicit)\n",
      "2022-01-16 20:43:00,275 INFO sqlalchemy.engine.base.Engine INSERT INTO city (id, name, latitude, longitude) VALUES (%(id)s, %(name)s, %(latitude)s, %(longitude)s)\n",
      "2022-01-16 20:43:00,276 INFO sqlalchemy.engine.base.Engine ({'id': 0, 'name': 'Mont Saint Michel', 'latitude': 48.6359541, 'longitude': -1.5114599549595142}, {'id': 1, 'name': 'St Malo', 'latitude': 48.649518, 'longitude': -2.0260409}, {'id': 2, 'name': 'Bayeux', 'latitude': 49.2764624, 'longitude': -0.7024738}, {'id': 3, 'name': 'Le Havre', 'latitude': 49.4938975, 'longitude': 0.1079732}, {'id': 4, 'name': 'Rouen', 'latitude': 49.4404591, 'longitude': 1.0939658}, {'id': 5, 'name': 'Paris', 'latitude': 48.85888970000001, 'longitude': 2.3200410217200766}, {'id': 6, 'name': 'Amiens', 'latitude': 49.8941708, 'longitude': 2.2956951}, {'id': 7, 'name': 'Lille', 'latitude': 50.6365654, 'longitude': 3.0635282000000004}  ... displaying 10 of 35 total bound parameter sets ...  {'id': 33, 'name': 'Bayonne', 'latitude': 43.49333789999999, 'longitude': -1.475099}, {'id': 34, 'name': 'La Rochelle', 'latitude': 46.1591126, 'longitude': -1.1520434})\n",
      "2022-01-16 20:43:03,200 INFO sqlalchemy.engine.base.Engine COMMIT\n"
     ]
    }
   ],
   "source": [
    "# save the retrieved data in Amazon Relational Database\n",
    "geo_df.to_sql(\n",
    "    \"city\",\n",
    "    engine,\n",
    "    if_exists='replace',\n",
    "    index =False\n",
    ")"
   ]
  },
  {
   "cell_type": "code",
   "execution_count": 10,
   "metadata": {},
   "outputs": [
    {
     "name": "stdout",
     "output_type": "stream",
     "text": [
      "2022-01-16 20:47:59,905 INFO sqlalchemy.engine.base.Engine ALTER TABLE city ADD PRIMARY KEY (id)\n",
      "2022-01-16 20:47:59,907 INFO sqlalchemy.engine.base.Engine {}\n",
      "2022-01-16 20:48:00,233 INFO sqlalchemy.engine.base.Engine COMMIT\n"
     ]
    }
   ],
   "source": [
    "# define the id column as a primary key for JOINs with other data later\n",
    "conn = engine.connect()\n",
    "stmt = text(\"ALTER TABLE city ADD PRIMARY KEY (id)\")\n",
    "result = conn.execute(stmt)"
   ]
  },
  {
   "cell_type": "markdown",
   "metadata": {},
   "source": [
    "# 4. Structure and save weather data in the DB <a class=\"anchor\" id=\"section4\"></a>"
   ]
  },
  {
   "cell_type": "code",
   "execution_count": 15,
   "metadata": {},
   "outputs": [
    {
     "name": "stdout",
     "output_type": "stream",
     "text": [
      "2022-01-16 21:09:54,175 INFO sqlalchemy.engine.base.Engine select relname from pg_class c join pg_namespace n on n.oid=c.relnamespace where pg_catalog.pg_table_is_visible(c.oid) and relname=%(name)s\n",
      "2022-01-16 21:09:54,176 INFO sqlalchemy.engine.base.Engine {'name': 'weather'}\n",
      "2022-01-16 21:09:54,422 INFO sqlalchemy.engine.base.Engine \n",
      "CREATE TABLE weather (\n",
      "\tindex BIGINT, \n",
      "\tday_time TEXT, \n",
      "\ttemperature FLOAT(53), \n",
      "\tprecipitation_p FLOAT(53), \n",
      "\thumidity BIGINT, \n",
      "\tweather TEXT, \n",
      "\tcid BIGINT\n",
      ")\n",
      "\n",
      "\n",
      "2022-01-16 21:09:54,423 INFO sqlalchemy.engine.base.Engine {}\n",
      "2022-01-16 21:09:54,591 INFO sqlalchemy.engine.base.Engine COMMIT\n",
      "2022-01-16 21:09:54,674 INFO sqlalchemy.engine.base.Engine CREATE INDEX ix_weather_index ON weather (index)\n",
      "2022-01-16 21:09:54,675 INFO sqlalchemy.engine.base.Engine {}\n",
      "2022-01-16 21:09:54,841 INFO sqlalchemy.engine.base.Engine COMMIT\n",
      "2022-01-16 21:09:54,927 INFO sqlalchemy.engine.base.Engine BEGIN (implicit)\n",
      "2022-01-16 21:09:54,930 INFO sqlalchemy.engine.base.Engine INSERT INTO weather (index, day_time, temperature, precipitation_p, humidity, weather, cid) VALUES (%(index)s, %(day_time)s, %(temperature)s, %(precipitation_p)s, %(humidity)s, %(weather)s, %(cid)s)\n",
      "2022-01-16 21:09:54,931 INFO sqlalchemy.engine.base.Engine ({'index': 0, 'day_time': '2022-01-15 12:00:00 (UTC)', 'temperature': 6.25, 'precipitation_p': 0.0, 'humidity': 70, 'weather': 'clear sky', 'cid': 0}, {'index': 1, 'day_time': '2022-01-16 12:00:00 (UTC)', 'temperature': 7.95, 'precipitation_p': 0.1, 'humidity': 86, 'weather': 'overcast clouds', 'cid': 0}, {'index': 2, 'day_time': '2022-01-17 12:00:00 (UTC)', 'temperature': 10.18, 'precipitation_p': 0.08, 'humidity': 87, 'weather': 'broken clouds', 'cid': 0}, {'index': 3, 'day_time': '2022-01-18 12:00:00 (UTC)', 'temperature': 8.23, 'precipitation_p': 0.0, 'humidity': 72, 'weather': 'few clouds', 'cid': 0}, {'index': 4, 'day_time': '2022-01-19 12:00:00 (UTC)', 'temperature': 7.63, 'precipitation_p': 0.0, 'humidity': 76, 'weather': 'scattered clouds', 'cid': 0}, {'index': 5, 'day_time': '2022-01-20 12:00:00 (UTC)', 'temperature': 8.39, 'precipitation_p': 0.0, 'humidity': 70, 'weather': 'broken clouds', 'cid': 0}, {'index': 6, 'day_time': '2022-01-21 12:00:00 (UTC)', 'temperature': 5.95, 'precipitation_p': 0.0, 'humidity': 65, 'weather': 'scattered clouds', 'cid': 0}, {'index': 7, 'day_time': '2022-01-15 12:00:00 (UTC)', 'temperature': 6.48, 'precipitation_p': 0.0, 'humidity': 82, 'weather': 'clear sky', 'cid': 1}  ... displaying 10 of 245 total bound parameter sets ...  {'index': 243, 'day_time': '2022-01-20 12:00:00 (UTC)', 'temperature': 7.8, 'precipitation_p': 0.0, 'humidity': 80, 'weather': 'clear sky', 'cid': 34}, {'index': 244, 'day_time': '2022-01-21 12:00:00 (UTC)', 'temperature': 5.18, 'precipitation_p': 0.0, 'humidity': 64, 'weather': 'clear sky', 'cid': 34})\n",
      "2022-01-16 21:10:14,887 INFO sqlalchemy.engine.base.Engine COMMIT\n"
     ]
    }
   ],
   "source": [
    "# save the retrieved data in Amazon Relational Database\n",
    "weather_df.to_sql(\n",
    "    \"weather\",\n",
    "    engine,\n",
    "    if_exists='replace',\n",
    ")"
   ]
  },
  {
   "cell_type": "code",
   "execution_count": 16,
   "metadata": {},
   "outputs": [
    {
     "name": "stdout",
     "output_type": "stream",
     "text": [
      "2022-01-16 21:10:14,976 INFO sqlalchemy.engine.base.Engine ALTER TABLE weather ADD PRIMARY KEY (index)\n",
      "2022-01-16 21:10:14,978 INFO sqlalchemy.engine.base.Engine {}\n",
      "2022-01-16 21:10:15,151 INFO sqlalchemy.engine.base.Engine COMMIT\n"
     ]
    }
   ],
   "source": [
    "# define the index as a primary key\n",
    "conn = engine.connect()\n",
    "stmt = text(\"ALTER TABLE weather ADD PRIMARY KEY (index)\")\n",
    "result = conn.execute(stmt)"
   ]
  },
  {
   "cell_type": "code",
   "execution_count": 17,
   "metadata": {},
   "outputs": [
    {
     "name": "stdout",
     "output_type": "stream",
     "text": [
      "2022-01-16 21:10:17,949 INFO sqlalchemy.engine.base.Engine ALTER TABLE weather ADD CONSTRAINT fk_city FOREIGN KEY (cid) REFERENCES city (id)\n",
      "2022-01-16 21:10:17,951 INFO sqlalchemy.engine.base.Engine {}\n",
      "2022-01-16 21:10:18,115 INFO sqlalchemy.engine.base.Engine COMMIT\n"
     ]
    }
   ],
   "source": [
    "# define the cid column as a foreign key\n",
    "stmt = text(\"ALTER TABLE weather ADD CONSTRAINT fk_city FOREIGN KEY (cid) REFERENCES city (id)\")\n",
    "result = conn.execute(stmt)"
   ]
  },
  {
   "cell_type": "markdown",
   "metadata": {},
   "source": [
    "# 5. Structure and save hotels data in the DB <a class=\"anchor\" id=\"section5\"></a>"
   ]
  },
  {
   "cell_type": "code",
   "execution_count": 63,
   "metadata": {},
   "outputs": [
    {
     "data": {
      "text/html": [
       "<div>\n",
       "<style scoped>\n",
       "    .dataframe tbody tr th:only-of-type {\n",
       "        vertical-align: middle;\n",
       "    }\n",
       "\n",
       "    .dataframe tbody tr th {\n",
       "        vertical-align: top;\n",
       "    }\n",
       "\n",
       "    .dataframe thead th {\n",
       "        text-align: right;\n",
       "    }\n",
       "</style>\n",
       "<table border=\"1\" class=\"dataframe\">\n",
       "  <thead>\n",
       "    <tr style=\"text-align: right;\">\n",
       "      <th></th>\n",
       "      <th>cid</th>\n",
       "      <th>name</th>\n",
       "      <th>star</th>\n",
       "      <th>rating</th>\n",
       "      <th>rating_title</th>\n",
       "      <th>number_of_ratings</th>\n",
       "      <th>price</th>\n",
       "      <th>url</th>\n",
       "      <th>lat</th>\n",
       "      <th>lon</th>\n",
       "    </tr>\n",
       "  </thead>\n",
       "  <tbody>\n",
       "    <tr>\n",
       "      <th>0</th>\n",
       "      <td>0</td>\n",
       "      <td>Le Relais Saint Michel</td>\n",
       "      <td>4 étoiles</td>\n",
       "      <td>7.8</td>\n",
       "      <td>Bien</td>\n",
       "      <td>1 910 expériences vécues</td>\n",
       "      <td>€ 78,32</td>\n",
       "      <td>https://www.booking.com/hotel/fr/le-relais-sai...</td>\n",
       "      <td>48.617587</td>\n",
       "      <td>-1.510396</td>\n",
       "    </tr>\n",
       "    <tr>\n",
       "      <th>1</th>\n",
       "      <td>0</td>\n",
       "      <td>Les Terrasses Poulard</td>\n",
       "      <td>3 étoiles</td>\n",
       "      <td>7.3</td>\n",
       "      <td>Bien</td>\n",
       "      <td>2 170 expériences vécues</td>\n",
       "      <td>€ 126,84</td>\n",
       "      <td>https://www.booking.com/hotel/fr/les-terrasses...</td>\n",
       "      <td>48.635349</td>\n",
       "      <td>-1.510379</td>\n",
       "    </tr>\n",
       "  </tbody>\n",
       "</table>\n",
       "</div>"
      ],
      "text/plain": [
       "   cid                    name       star  rating rating_title  \\\n",
       "0    0  Le Relais Saint Michel  4 étoiles     7.8         Bien   \n",
       "1    0   Les Terrasses Poulard  3 étoiles     7.3         Bien   \n",
       "\n",
       "          number_of_ratings     price  \\\n",
       "0  1 910 expériences vécues   € 78,32   \n",
       "1  2 170 expériences vécues  € 126,84   \n",
       "\n",
       "                                                 url        lat       lon  \n",
       "0  https://www.booking.com/hotel/fr/le-relais-sai...  48.617587 -1.510396  \n",
       "1  https://www.booking.com/hotel/fr/les-terrasses...  48.635349 -1.510379  "
      ]
     },
     "execution_count": 63,
     "metadata": {},
     "output_type": "execute_result"
    }
   ],
   "source": [
    "hotels_df.head(2)"
   ]
  },
  {
   "cell_type": "code",
   "execution_count": 64,
   "metadata": {},
   "outputs": [
    {
     "data": {
      "text/plain": [
       "cid                    int64\n",
       "name                  object\n",
       "star                  object\n",
       "rating               float64\n",
       "rating_title          object\n",
       "number_of_ratings     object\n",
       "price                 object\n",
       "url                   object\n",
       "lat                  float64\n",
       "lon                  float64\n",
       "dtype: object"
      ]
     },
     "execution_count": 64,
     "metadata": {},
     "output_type": "execute_result"
    }
   ],
   "source": [
    "hotels_df.dtypes"
   ]
  },
  {
   "cell_type": "code",
   "execution_count": 65,
   "metadata": {},
   "outputs": [],
   "source": [
    "# Clean and Structure\n",
    "# extract numeric data from columns = [star, number_of_ratings, price]\n",
    "\n",
    "def get_int(text, split_word):\n",
    "    if text != text:\n",
    "        return np.nan\n",
    "    else:\n",
    "        text = int(text.split(split_word)[0].replace(u'\\xa0', u''))\n",
    "        return text\n",
    "\n",
    "def get_float(text, split_word):\n",
    "    if text != text:\n",
    "        return np.nan\n",
    "    else:\n",
    "        text = float(text.split(split_word)[1].replace(u'\\xa0', u'').replace(',', '.'))\n",
    "        return text"
   ]
  },
  {
   "cell_type": "code",
   "execution_count": 66,
   "metadata": {},
   "outputs": [],
   "source": [
    "hotels_df['number_of_ratings'] = hotels_df['number_of_ratings'].apply(get_int, args =['expériences'])\n",
    "hotels_df['star'] = hotels_df['star'].apply(get_int, args =['étoiles']) \n",
    "hotels_df['price'] = hotels_df['price'].apply(get_float, args =['€']) "
   ]
  },
  {
   "cell_type": "code",
   "execution_count": 67,
   "metadata": {},
   "outputs": [
    {
     "data": {
      "text/plain": [
       "cid                    int64\n",
       "name                  object\n",
       "star                 float64\n",
       "rating               float64\n",
       "rating_title          object\n",
       "number_of_ratings      int64\n",
       "price                float64\n",
       "url                   object\n",
       "lat                  float64\n",
       "lon                  float64\n",
       "dtype: object"
      ]
     },
     "execution_count": 67,
     "metadata": {},
     "output_type": "execute_result"
    }
   ],
   "source": [
    "hotels_df.dtypes"
   ]
  },
  {
   "cell_type": "code",
   "execution_count": 70,
   "metadata": {},
   "outputs": [
    {
     "data": {
      "text/html": [
       "<div>\n",
       "<style scoped>\n",
       "    .dataframe tbody tr th:only-of-type {\n",
       "        vertical-align: middle;\n",
       "    }\n",
       "\n",
       "    .dataframe tbody tr th {\n",
       "        vertical-align: top;\n",
       "    }\n",
       "\n",
       "    .dataframe thead th {\n",
       "        text-align: right;\n",
       "    }\n",
       "</style>\n",
       "<table border=\"1\" class=\"dataframe\">\n",
       "  <thead>\n",
       "    <tr style=\"text-align: right;\">\n",
       "      <th></th>\n",
       "      <th>cid</th>\n",
       "      <th>name</th>\n",
       "      <th>star</th>\n",
       "      <th>rating</th>\n",
       "      <th>rating_title</th>\n",
       "      <th>number_of_ratings</th>\n",
       "      <th>price</th>\n",
       "      <th>url</th>\n",
       "      <th>lat</th>\n",
       "      <th>lon</th>\n",
       "    </tr>\n",
       "  </thead>\n",
       "  <tbody>\n",
       "    <tr>\n",
       "      <th>0</th>\n",
       "      <td>0</td>\n",
       "      <td>Le Relais Saint Michel</td>\n",
       "      <td>4.0</td>\n",
       "      <td>7.8</td>\n",
       "      <td>Bien</td>\n",
       "      <td>1910</td>\n",
       "      <td>78.32</td>\n",
       "      <td>https://www.booking.com/hotel/fr/le-relais-sai...</td>\n",
       "      <td>48.617587</td>\n",
       "      <td>-1.510396</td>\n",
       "    </tr>\n",
       "    <tr>\n",
       "      <th>1</th>\n",
       "      <td>0</td>\n",
       "      <td>Les Terrasses Poulard</td>\n",
       "      <td>3.0</td>\n",
       "      <td>7.3</td>\n",
       "      <td>Bien</td>\n",
       "      <td>2170</td>\n",
       "      <td>126.84</td>\n",
       "      <td>https://www.booking.com/hotel/fr/les-terrasses...</td>\n",
       "      <td>48.635349</td>\n",
       "      <td>-1.510379</td>\n",
       "    </tr>\n",
       "  </tbody>\n",
       "</table>\n",
       "</div>"
      ],
      "text/plain": [
       "   cid                    name  star  rating rating_title  number_of_ratings  \\\n",
       "0    0  Le Relais Saint Michel   4.0     7.8         Bien               1910   \n",
       "1    0   Les Terrasses Poulard   3.0     7.3         Bien               2170   \n",
       "\n",
       "    price                                                url        lat  \\\n",
       "0   78.32  https://www.booking.com/hotel/fr/le-relais-sai...  48.617587   \n",
       "1  126.84  https://www.booking.com/hotel/fr/les-terrasses...  48.635349   \n",
       "\n",
       "        lon  \n",
       "0 -1.510396  \n",
       "1 -1.510379  "
      ]
     },
     "execution_count": 70,
     "metadata": {},
     "output_type": "execute_result"
    }
   ],
   "source": [
    "hotels_df.head(2)"
   ]
  },
  {
   "cell_type": "code",
   "execution_count": 71,
   "metadata": {},
   "outputs": [
    {
     "name": "stdout",
     "output_type": "stream",
     "text": [
      "2022-01-16 22:14:18,091 INFO sqlalchemy.engine.base.Engine select relname from pg_class c join pg_namespace n on n.oid=c.relnamespace where pg_catalog.pg_table_is_visible(c.oid) and relname=%(name)s\n",
      "2022-01-16 22:14:18,093 INFO sqlalchemy.engine.base.Engine {'name': 'hotels'}\n",
      "2022-01-16 22:14:18,341 INFO sqlalchemy.engine.base.Engine \n",
      "CREATE TABLE hotels (\n",
      "\tindex BIGINT, \n",
      "\tcid BIGINT, \n",
      "\tname TEXT, \n",
      "\tstar FLOAT(53), \n",
      "\trating FLOAT(53), \n",
      "\trating_title TEXT, \n",
      "\tnumber_of_ratings BIGINT, \n",
      "\tprice FLOAT(53), \n",
      "\turl TEXT, \n",
      "\tlat FLOAT(53), \n",
      "\tlon FLOAT(53)\n",
      ")\n",
      "\n",
      "\n",
      "2022-01-16 22:14:18,342 INFO sqlalchemy.engine.base.Engine {}\n",
      "2022-01-16 22:14:18,511 INFO sqlalchemy.engine.base.Engine COMMIT\n",
      "2022-01-16 22:14:18,595 INFO sqlalchemy.engine.base.Engine CREATE INDEX ix_hotels_index ON hotels (index)\n",
      "2022-01-16 22:14:18,596 INFO sqlalchemy.engine.base.Engine {}\n",
      "2022-01-16 22:14:18,761 INFO sqlalchemy.engine.base.Engine COMMIT\n",
      "2022-01-16 22:14:18,847 INFO sqlalchemy.engine.base.Engine BEGIN (implicit)\n",
      "2022-01-16 22:14:18,852 INFO sqlalchemy.engine.base.Engine INSERT INTO hotels (index, cid, name, star, rating, rating_title, number_of_ratings, price, url, lat, lon) VALUES (%(index)s, %(cid)s, %(name)s, %(star)s, %(rating)s, %(rating_title)s, %(number_of_ratings)s, %(price)s, %(url)s, %(lat)s, %(lon)s)\n",
      "2022-01-16 22:14:18,853 INFO sqlalchemy.engine.base.Engine ({'index': 0, 'cid': 0, 'name': 'Le Relais Saint Michel', 'star': 4.0, 'rating': 7.8, 'rating_title': 'Bien', 'number_of_ratings': 1910, 'price': 78.32, 'url': 'https://www.booking.com/hotel/fr/le-relais-saint-michel.fr.html?sid=c17affa1402ef0976c5bc9a9b4c912ee', 'lat': 48.61758727, 'lon': -1.51039615}, {'index': 1, 'cid': 0, 'name': 'Les Terrasses Poulard', 'star': 3.0, 'rating': 7.3, 'rating_title': 'Bien', 'number_of_ratings': 2170, 'price': 126.84, 'url': 'https://www.booking.com/hotel/fr/les-terrasses-poulard.fr.html?sid=c17affa1402ef0976c5bc9a9b4c912ee', 'lat': 48.63534943, 'lon': -1.51037872}, {'index': 2, 'cid': 0, 'name': 'La Mère Poulard', 'star': 3.0, 'rating': 7.2, 'rating_title': 'Bien', 'number_of_ratings': 1175, 'price': 85.84, 'url': 'https://www.booking.com/hotel/fr/la-mere-poulard.fr.html?sid=c17affa1402ef0976c5bc9a9b4c912ee', 'lat': 48.63508532, 'lon': -1.51053965}, {'index': 3, 'cid': 0, 'name': 'Hotel De La Digue', 'star': 3.0, 'rating': 7.1, 'rating_title': 'Bien', 'number_of_ratings': 2093, 'price': 77.84, 'url': 'https://www.booking.com/hotel/fr/de-la-digue.fr.html?sid=c17affa1402ef0976c5bc9a9b4c912ee', 'lat': 48.61688155, 'lon': -1.51091784}, {'index': 4, 'cid': 0, 'name': 'Hôtel Vert', 'star': 2.0, 'rating': 8.1, 'rating_title': 'Très bien', 'number_of_ratings': 3808, 'price': 73.38, 'url': 'https://www.booking.com/hotel/fr/vert.fr.html?sid=c17affa1402ef0976c5bc9a9b4c912ee', 'lat': 48.61470049, 'lon': -1.50961697}, {'index': 5, 'cid': 0, 'name': 'Mercure Mont Saint Michel', 'star': 4.0, 'rating': 8.2, 'rating_title': 'Très bien', 'number_of_ratings': 3101, 'price': 90.16, 'url': 'https://www.booking.com/hotel/fr/mont-saint-michel.fr.html?sid=c17affa1402ef0976c5bc9a9b4c912ee', 'lat': 48.61424653, 'lon': -1.51054502}, {'index': 6, 'cid': 0, 'name': 'Le Mouton Blanc', 'star': 3.0, 'rating': 7.2, 'rating_title': 'Bien', 'number_of_ratings': 1639, 'price': 121.84, 'url': 'https://www.booking.com/hotel/fr/le-mouton-blanc-le-mont-saint-michel.fr.html?sid=c17affa1402ef0976c5bc9a9b4c912ee', 'lat': 48.63602298, 'lon': -1.50989592}, {'index': 7, 'cid': 0, 'name': 'Hotel Gabriel', 'star': 3.0, 'rating': 8.1, 'rating_title': 'Très bien', 'number_of_ratings': 2475, 'price': None, 'url': 'https://www.booking.com/hotel/fr/hotel-gabriel.fr.html?sid=c17affa1402ef0976c5bc9a9b4c912ee', 'lat': 48.61538141, 'lon': -1.51070997}  ... displaying 10 of 310 total bound parameter sets ...  {'index': 308, 'cid': 34, 'name': 'Central Park Hôtel & Spa', 'star': 4.0, 'rating': 8.7, 'rating_title': 'Superbe', 'number_of_ratings': 1817, 'price': 90.06, 'url': 'https://www.booking.com/hotel/fr/central-park-amp-spa.fr.html?sid=7240f81f0addba4c934c8378c3bd2d8a', 'lat': 46.15891333, 'lon': -1.16082335}, {'index': 309, 'cid': 34, 'name': 'ibis La Rochelle Vieux Port', 'star': 3.0, 'rating': 8.2, 'rating_title': 'Très bien', 'number_of_ratings': 1842, 'price': 68.65, 'url': 'https://www.booking.com/hotel/fr/ibis-la-rochelle-vieux-port.fr.html?sid=7240f81f0addba4c934c8378c3bd2d8a', 'lat': 46.1558294, 'lon': -1.148558})\n",
      "2022-01-16 22:14:44,297 INFO sqlalchemy.engine.base.Engine COMMIT\n"
     ]
    }
   ],
   "source": [
    "# save the retrieved data in Amazon Relational Database\n",
    "hotels_df.to_sql(\n",
    "    \"hotels\",\n",
    "    engine,\n",
    "    if_exists='replace',\n",
    ")"
   ]
  },
  {
   "cell_type": "code",
   "execution_count": 72,
   "metadata": {},
   "outputs": [
    {
     "name": "stdout",
     "output_type": "stream",
     "text": [
      "2022-01-16 22:14:44,389 INFO sqlalchemy.engine.base.Engine ALTER TABLE hotels ADD PRIMARY KEY (index)\n",
      "2022-01-16 22:14:44,390 INFO sqlalchemy.engine.base.Engine {}\n",
      "2022-01-16 22:14:44,559 INFO sqlalchemy.engine.base.Engine COMMIT\n"
     ]
    }
   ],
   "source": [
    "# define the index as a primary key\n",
    "conn = engine.connect()\n",
    "stmt = text(\"ALTER TABLE hotels ADD PRIMARY KEY (index)\")\n",
    "result = conn.execute(stmt)"
   ]
  },
  {
   "cell_type": "code",
   "execution_count": 73,
   "metadata": {},
   "outputs": [
    {
     "name": "stdout",
     "output_type": "stream",
     "text": [
      "2022-01-16 22:14:44,649 INFO sqlalchemy.engine.base.Engine ALTER TABLE hotels ADD CONSTRAINT fk_city FOREIGN KEY (cid) REFERENCES city (id)\n",
      "2022-01-16 22:14:44,652 INFO sqlalchemy.engine.base.Engine {}\n",
      "2022-01-16 22:14:44,817 INFO sqlalchemy.engine.base.Engine COMMIT\n"
     ]
    }
   ],
   "source": [
    "# define the cid column as a foreign key\n",
    "stmt = text(\"ALTER TABLE hotels ADD CONSTRAINT fk_city FOREIGN KEY (cid) REFERENCES city (id)\")\n",
    "result = conn.execute(stmt)"
   ]
  },
  {
   "cell_type": "markdown",
   "metadata": {},
   "source": [
    "# 6. DB schema <a class=\"anchor\" id=\"section6\"></a>"
   ]
  },
  {
   "cell_type": "markdown",
   "metadata": {},
   "source": [
    "<img src=\"data/schema.png\" width=1000 height=800>"
   ]
  },
  {
   "cell_type": "markdown",
   "metadata": {},
   "source": [
    "<image src=\"data/schema.png\" width=100 height=50>"
   ]
  }
 ],
 "metadata": {
  "kernelspec": {
   "display_name": "Python 3 (ipykernel)",
   "language": "python",
   "name": "python3"
  },
  "language_info": {
   "codemirror_mode": {
    "name": "ipython",
    "version": 3
   },
   "file_extension": ".py",
   "mimetype": "text/x-python",
   "name": "python",
   "nbconvert_exporter": "python",
   "pygments_lexer": "ipython3",
   "version": "3.9.7"
  }
 },
 "nbformat": 4,
 "nbformat_minor": 4
}
