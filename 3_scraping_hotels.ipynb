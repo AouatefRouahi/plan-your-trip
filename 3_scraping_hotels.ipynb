{
 "cells": [
  {
   "cell_type": "markdown",
   "metadata": {},
   "source": [
    "<p>In this third phase, we will : </p> \n",
    "<ul> \n",
    "    <li> scrape and parse information about 10 hotels for every city from booking.com   </li> \n",
    "</ul>"
   ]
  },
  {
   "cell_type": "markdown",
   "metadata": {},
   "source": [
    "### Table of Contents\n",
    "\n",
    "* [1. Get cities and hotels' URLs](#section1)\n",
    "* [2. Scrape and Parse hotels' data](#section2)"
   ]
  },
  {
   "cell_type": "code",
   "execution_count": 5,
   "metadata": {},
   "outputs": [],
   "source": [
    "# data wrapping \n",
    "import csv\n",
    "\n",
    "# scraping \n",
    "import requests\n",
    "from selectorlib import Extractor\n",
    "\n",
    "from tqdm import tqdm\n",
    "from time import sleep\n",
    "\n",
    "# predefined functions\n",
    "from modules import Funct as F\n",
    "\n",
    "# global params\n",
    "bucket_name = 'kayak-project'"
   ]
  },
  {
   "cell_type": "markdown",
   "metadata": {},
   "source": [
    "# 1. Get cities and hotels' URLs <a class=\"anchor\" id=\"section1\"></a>"
   ]
  },
  {
   "cell_type": "code",
   "execution_count": 16,
   "metadata": {},
   "outputs": [
    {
     "name": "stdout",
     "output_type": "stream",
     "text": [
      "File downloaded\n",
      "File downloaded\n"
     ]
    }
   ],
   "source": [
    "# download data from data lake\n",
    "F.download_file_dl(bucket_name, 'cities.txt', 'data/cities.txt')\n",
    "F.download_file_dl(bucket_name, 'urls.txt', 'data/urls.txt')"
   ]
  },
  {
   "cell_type": "code",
   "execution_count": 7,
   "metadata": {},
   "outputs": [
    {
     "name": "stdout",
     "output_type": "stream",
     "text": [
      "Data retrieved\n",
      "Data retrieved\n"
     ]
    }
   ],
   "source": [
    "cities = F.read_txt('data/cities.txt')\n",
    "urls = F.read_txt('data/urls.txt')"
   ]
  },
  {
   "cell_type": "markdown",
   "metadata": {},
   "source": [
    "# 2. Scrape and Parse hotels' data <a class=\"anchor\" id=\"section2\"></a>"
   ]
  },
  {
   "cell_type": "code",
   "execution_count": 8,
   "metadata": {},
   "outputs": [],
   "source": [
    "def scrape(url, yml_file): \n",
    "    e = Extractor.from_yaml_file(yml_file)\n",
    "    r = requests.get(url)\n",
    "    data = e.extract(r.text,base_url=url)\n",
    "    \n",
    "    return data"
   ]
  },
  {
   "cell_type": "code",
   "execution_count": null,
   "metadata": {},
   "outputs": [],
   "source": [
    "yml_file = 'data/booking.yml'\n",
    "yml_geo_file = 'data/geo_data.yml'\n",
    "\n",
    "success = len(urls)\n",
    "with open('data/hotels.csv','w') as f:\n",
    "    fieldnames = [\n",
    "        \"cid\",\n",
    "        \"name\",\n",
    "        \"star\",\n",
    "        \"rating\",\n",
    "        \"rating_title\",\n",
    "        \"number_of_ratings\",\n",
    "        \"price\",\n",
    "        \"url\",\n",
    "        \"lat\",\n",
    "        \"lon\"\n",
    "    ]\n",
    "    \n",
    "    writer = csv.DictWriter(f, fieldnames = fieldnames, quoting = csv.QUOTE_NONNUMERIC)\n",
    "    writer.writeheader()\n",
    "    \n",
    "    for i, url in tqdm(enumerate(urls)):\n",
    "        data = scrape(url, yml_file) \n",
    "        if data['hotels']:\n",
    "            for hotel in data['hotels']:\n",
    "            \n",
    "                hotel['cid'] = i\n",
    "                \n",
    "                # get geo coordinates of the hotel\n",
    "                url_hotel = hotel['url']\n",
    "                data_geo = scrape(url_hotel, yml_geo_file)\n",
    "                lat, lon = data_geo['geo'][0]['address'].split(',')\n",
    "                hotel['lat'] = lat\n",
    "                hotel['lon'] = lon\n",
    "\n",
    "                writer.writerow(hotel)\n",
    "        else:\n",
    "            print('No data found')\n",
    "            success = success - 1\n",
    "        sleep(5)\n",
    "    print (f'{success} out of {len(urls)} success')"
   ]
  },
  {
   "cell_type": "code",
   "execution_count": null,
   "metadata": {},
   "outputs": [],
   "source": [
    "# save hotels' data in the data Lake\n",
    "F.upload_file_dl('data/hotels.csv', bucket_name, 'hotels.csv')         "
   ]
  }
 ],
 "metadata": {
  "kernelspec": {
   "display_name": "Python 3 (ipykernel)",
   "language": "python",
   "name": "python3"
  },
  "language_info": {
   "codemirror_mode": {
    "name": "ipython",
    "version": 3
   },
   "file_extension": ".py",
   "mimetype": "text/x-python",
   "name": "python",
   "nbconvert_exporter": "python",
   "pygments_lexer": "ipython3",
   "version": "3.9.7"
  }
 },
 "nbformat": 4,
 "nbformat_minor": 4
}
